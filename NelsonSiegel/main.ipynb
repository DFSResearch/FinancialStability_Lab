{
 "cells": [
  {
   "cell_type": "code",
   "execution_count": null,
   "metadata": {},
   "outputs": [],
   "source": [
    "import os\n",
    "import sys\n",
    "import warnings\n",
    "import pandas as pd\n",
    "import numpy as np\n",
    "import CONFIG"
   ]
  },
  {
   "cell_type": "code",
   "execution_count": null,
   "metadata": {},
   "outputs": [],
   "source": [
    "from itertools import product\n",
    "from tqdm import tqdm"
   ]
  },
  {
   "cell_type": "code",
   "execution_count": null,
   "metadata": {},
   "outputs": [],
   "source": [
    "import matplotlib.pyplot as plt\n",
    "from matplotlib.backends.backend_pdf import PdfPages\n",
    "from sklearn.metrics import mean_absolute_error"
   ]
  },
  {
   "cell_type": "code",
   "execution_count": null,
   "metadata": {},
   "outputs": [],
   "source": [
    "from datapreparation.preparation_functions import processing_data, read_download_preprocessed_data\n",
    "from datapreparation.adaptive_sampling import creating_sample\n",
    "from optimizator.simultaneous_min import iter_minimizer\n",
    "from optimizator.fixed_minimization import fixed_tau_minimizer\n",
    "from optimizator.gridsearch import grid_search\n",
    "from dataextraction import *\n",
    "from estimation_ytm.estimation_ytm import new_ytm, newton_estimation, filtering_ytm\n",
    "from error_measures import area_boot, MAE_YTM, mean_absolute_error\n",
    "from weight_scheme import weight\n",
    "from Loss import yield_Loss, price_Loss, naive_yield_Loss\n",
    "from payments_calendar import download_calendar\n",
    "from ns_func import Z, D, F, par_yield\n",
    "from stability_assessment import stability_assession"
   ]
  },
  {
   "cell_type": "code",
   "execution_count": null,
   "metadata": {},
   "outputs": [],
   "source": [
    "%load_ext autoreload"
   ]
  },
  {
   "cell_type": "code",
   "execution_count": null,
   "metadata": {},
   "outputs": [],
   "source": [
    "%autoreload 2"
   ]
  },
  {
   "cell_type": "code",
   "execution_count": null,
   "metadata": {},
   "outputs": [],
   "source": [
    "pd.set_option('display.max_columns', 50)"
   ]
  },
  {
   "cell_type": "code",
   "execution_count": null,
   "metadata": {},
   "outputs": [],
   "source": [
    "warnings.simplefilter('ignore')"
   ]
  },
  {
   "cell_type": "code",
   "execution_count": null,
   "metadata": {},
   "outputs": [],
   "source": [
    "idx = pd.IndexSlice"
   ]
  },
  {
   "cell_type": "code",
   "execution_count": null,
   "metadata": {},
   "outputs": [],
   "source": [
    "PATH = 'extracted_data'\n",
    "calendar_data_path = os.path.join('datasets', 'coupons_data.hdf')\n",
    "original_data_path = os.path.join('datasets', 'bonds.xls')\n",
    "clean_data_path = os.path.join('datasets', 'clean_data.hdf')"
   ]
  },
  {
   "cell_type": "code",
   "execution_count": null,
   "metadata": {},
   "outputs": [],
   "source": [
    "loss = yield_Loss"
   ]
  },
  {
   "cell_type": "markdown",
   "metadata": {},
   "source": [
    "### Initialization"
   ]
  },
  {
   "cell_type": "code",
   "execution_count": null,
   "metadata": {},
   "outputs": [],
   "source": [
    "df = pd.read_excel(original_data_path, skiprows=2)\n",
    "df = df.rename(columns=CONFIG.NAME_MASK)"
   ]
  },
  {
   "cell_type": "code",
   "execution_count": null,
   "metadata": {},
   "outputs": [],
   "source": [
    "save_data = False"
   ]
  },
  {
   "cell_type": "markdown",
   "metadata": {},
   "source": [
    "### Load data"
   ]
  },
  {
   "cell_type": "code",
   "execution_count": null,
   "metadata": {
    "scrolled": true
   },
   "outputs": [],
   "source": [
    "%%time\n",
    "### data mungling\n",
    "if save_data:\n",
    "    clean_data = processing_data(df, \n",
    "                  mask_face_value=CONFIG.MASK_FACE_VALUE, mask_base_time=CONFIG.MASK_BASE_TIME,\n",
    "                  needed_bonds=CONFIG.INSTRUMENTS, use_otc=CONFIG.USE_OTC, deal_market=CONFIG.DEAL_MARKET,\n",
    "                  notes_in_otc=CONFIG.NOTES_IN_OTC, maturity_filter=CONFIG.MATURITY_FILTER, \n",
    "                  specific_deals=CONFIG.SPECIFIC_DEALS)\n",
    "    \n",
    "    #calendar payments data: saving and loading\n",
    "    coupons_cf, streak_data = download_calendar(clean_data, hdf_coupons_path=calendar_data_path)\n",
    "    #Estimating correct yield for data\n",
    "    clean_data = (clean_data.pipe(new_ytm, coupons_cf, streak_data)\n",
    "                            .pipe(filtering_ytm, max_yield=CONFIG.MAX_YIELD, \n",
    "                                  min_yield=CONFIG.MIN_YIELD))\n",
    "    clean_data['bond_symb'] = clean_data.index.get_level_values(1).str.extract(r'([A-Z]+)')[0]\n",
    "    clean_data = read_download_preprocessed_data(save_data, clean_data=clean_data,\n",
    "                                                 clean_data_path=clean_data_path)\n",
    "else:\n",
    "    clean_data = read_download_preprocessed_data(save_data, clean_data_path=clean_data_path)\n",
    "    #Coupon Data: saving and loading\n",
    "    coupons_cf, streak_data = download_calendar(clean_data, hdf_coupons_path=calendar_data_path)"
   ]
  },
  {
   "cell_type": "markdown",
   "metadata": {},
   "source": [
    "### GET TO WORK!!!"
   ]
  },
  {
   "cell_type": "code",
   "execution_count": null,
   "metadata": {
    "scrolled": true
   },
   "outputs": [],
   "source": [
    "%%time\n",
    "filtered_data = creating_sample(CONFIG.SETTLE_DATE, clean_data, min_n_deal=CONFIG.MIN_N_DEAL, \n",
    "                                time_window=CONFIG.TIME_WINDOW, fix_first_cut=False)"
   ]
  },
  {
   "cell_type": "code",
   "execution_count": null,
   "metadata": {},
   "outputs": [],
   "source": [
    "filtered_data.groupby('bond_maturity_type').reverse_span.max()"
   ]
  },
  {
   "cell_type": "code",
   "execution_count": null,
   "metadata": {},
   "outputs": [],
   "source": [
    "filtered_data.bond_maturity_type.value_counts().sort_index()"
   ]
  },
  {
   "cell_type": "code",
   "execution_count": null,
   "metadata": {},
   "outputs": [],
   "source": [
    "filtered_data.shape"
   ]
  },
  {
   "cell_type": "code",
   "execution_count": null,
   "metadata": {},
   "outputs": [],
   "source": [
    "filtered_data.plot.scatter(x='span', y='ytm', figsize=(15, 10));plt.show();"
   ]
  },
  {
   "cell_type": "markdown",
   "metadata": {},
   "source": [
    "Setting Loss arguments and optimization parameters"
   ]
  },
  {
   "cell_type": "code",
   "execution_count": null,
   "metadata": {},
   "outputs": [],
   "source": [
    "#Initial guess vector(for optimization)\n",
    "x0 = [0.09, -0.01, 0, 1.5]\n",
    "ytm_max = filtered_data['ytm'].max() \n",
    "#Parameters constraints\n",
    "constr = ({'type':'ineq',\n",
    "           'fun': lambda x: np.array(x[0] + x[1])})\n",
    "#Longest matuiry year of deals in data\n",
    "teta_cap = 6\n",
    "max_deal_span = (filtered_data.span / 365).round().max()\n",
    "#Parameters bounds for constraint optimization\n",
    "bounds = ((0, 1), (None, None), (None, None), (1 / 12, teta_cap))\n",
    "#Maturity limit for Zero-curve plot\n",
    "longest_maturity_year = max([max_deal_span, 30])\n",
    "theor_maturities = np.linspace(0.001, longest_maturity_year, 10000)\n",
    "options = {'maxiter': 150, 'disp': True}\n",
    "#Tuple of arguments for loss function            \n",
    "loss_args = (filtered_data, coupons_cf, streak_data, CONFIG.RHO, CONFIG.WEIGHT_SCHEME)"
   ]
  },
  {
   "cell_type": "markdown",
   "metadata": {},
   "source": [
    "Age of deals"
   ]
  },
  {
   "cell_type": "code",
   "execution_count": null,
   "metadata": {},
   "outputs": [],
   "source": [
    "labels = dict(zip(filtered_data['bond_maturity_type'].astype('str').unique(), \n",
    "                    ['r', 'b', 'g','k']))\n",
    "              "
   ]
  },
  {
   "cell_type": "code",
   "execution_count": null,
   "metadata": {
    "scrolled": false
   },
   "outputs": [],
   "source": [
    "fig, ax = plt.subplots(figsize=(15, 10))\n",
    "for mtype in filtered_data['bond_maturity_type'] .sort_values().unique():\n",
    "    subsample = (filtered_data\n",
    "                 .loc[filtered_data\n",
    "                 .loc[:,'bond_maturity_type'] == mtype,:])\n",
    "    \n",
    "    ax.scatter(subsample.loc[:,'span'], subsample.loc[:,'reverse_span'], \n",
    "                s=1e2, label = str(mtype), c = labels[str(mtype)])\n",
    "    \n",
    "plt.legend()\n"
   ]
  },
  {
   "cell_type": "markdown",
   "metadata": {},
   "source": [
    "## <center>Optimization"
   ]
  },
  {
   "cell_type": "markdown",
   "metadata": {},
   "source": [
    "###  Fixed Tau"
   ]
  },
  {
   "cell_type": "code",
   "execution_count": null,
   "metadata": {},
   "outputs": [],
   "source": [
    "CONFIG.WEIGHT_SCHEME"
   ]
  },
  {
   "cell_type": "code",
   "execution_count": null,
   "metadata": {},
   "outputs": [],
   "source": [
    "###Setting Loss arguments and optimization paramters\n",
    "#Initial guess vector(for optimization)\n",
    "x0 = [0.09, -0.01, 0]\n",
    "\n",
    "#Parameters constraints\n",
    "constr = ({'type':'ineq',\n",
    "           'fun': lambda x: np.array(x[0] + x[1])})\n",
    "\n",
    "#Longest matuiry year of deals in data\n",
    "max_deal_span = (filtered_data.span / 365).round().max()\n",
    "\n",
    "#Parameters bounds for constraint optimization\n",
    "bounds = ((0, 1), (None, None), (None, None))\n",
    "\n",
    "#Maturity limit for Zero-curve plot\n",
    "longest_maturity_year = max([max_deal_span, 20])\n",
    "theor_maturities = np.linspace(0.001, longest_maturity_year, 10000)\n",
    "options = {'maxiter': 150, 'eps': 9e-5, 'disp': True}\n",
    "filtered_data['weight'] = weight([1, 1, 1, 1], filtered_data, 'test')\n",
    "\n",
    "#Tuple of arguments for loss function\n",
    "loss_args = (filtered_data, coupons_cf, streak_data, CONFIG.RHO, CONFIG.WEIGHT_SCHEME, CONFIG.TAU)\n",
    "\n",
    "#defining loss -- Crucial\n",
    "loss = yield_Loss\n",
    "filtered_data['weight'] = weight([1, 1, 1, 1], filtered_data, CONFIG.WEIGHT_SCHEME)"
   ]
  },
  {
   "cell_type": "code",
   "execution_count": null,
   "metadata": {},
   "outputs": [],
   "source": [
    "###### OPTIMIZATION\n",
    "res_ = fixed_tau_minimizer(Loss=loss, beta_init=x0,\n",
    "                loss_args=loss_args, method='SLSQP', bounds=bounds,\n",
    "                #constraints=constr,\n",
    "                max_deal_span=max_deal_span, options=options)"
   ]
  },
  {
   "cell_type": "code",
   "execution_count": null,
   "metadata": {},
   "outputs": [],
   "source": [
    "beta_best = np.append(res_.x, CONFIG.TAU)\n"
   ]
  },
  {
   "cell_type": "code",
   "execution_count": null,
   "metadata": {},
   "outputs": [],
   "source": [
    "fig, ax = plt.subplots(figsize=(15, 10))\n",
    "ax.plot(theor_maturities, Z(theor_maturities, beta_best)) \n",
    "plt.title(f'Curve for {CONFIG.SETTLE_DATE}')\n",
    "plt.ylim(0, 0.12);\n",
    "plt.xlim(0, 15)"
   ]
  },
  {
   "cell_type": "code",
   "execution_count": null,
   "metadata": {},
   "outputs": [],
   "source": [
    "fig = plt.figure(figsize=(15, 10))\n",
    "plt.plot(theor_maturities, D(theor_maturities, beta_best)) \n",
    "plt.title(f'Discount curve for {CONFIG.SETTLE_DATE}')\n",
    "plt.xlim(0, 20)"
   ]
  },
  {
   "cell_type": "markdown",
   "metadata": {},
   "source": [
    "### 4 variable minimization"
   ]
  },
  {
   "cell_type": "code",
   "execution_count": null,
   "metadata": {},
   "outputs": [],
   "source": [
    "x0 = [0.09, -0.01, 0, 1.5]\n",
    "loss_args = (filtered_data, coupons_cf, streak_data, CONFIG.RHO, CONFIG.WEIGHT_SCHEME, None)\n"
   ]
  },
  {
   "cell_type": "code",
   "execution_count": null,
   "metadata": {
    "scrolled": true
   },
   "outputs": [],
   "source": [
    "%%time\n",
    "res_ = iter_minimizer(Loss=yield_Loss, \n",
    "                      beta_init=[0.09, -0.01, 0, 1.5],\n",
    "                      loss_args=loss_args, method='SLSQP', \n",
    "                      bounds=((0,1), (None, None), (None, None), (None, None)),\n",
    "                      max_deal_span=max_deal_span, options=options)\n",
    "                      "
   ]
  },
  {
   "cell_type": "code",
   "execution_count": null,
   "metadata": {},
   "outputs": [],
   "source": [
    "beta_best = res_.x\n",
    "beta_best"
   ]
  },
  {
   "cell_type": "code",
   "execution_count": null,
   "metadata": {
    "scrolled": false
   },
   "outputs": [],
   "source": [
    "fig, ax = plt.subplots(figsize=(15, 10))\n",
    "ax.plot(theor_maturities, Z(theor_maturities, beta_best)) \n",
    "\n",
    "plt.title(f'Curve for {CONFIG.SETTLE_DATE}')\n",
    "plt.ylim(0, 0.12);\n",
    "plt.xlim(0, 15)"
   ]
  },
  {
   "cell_type": "markdown",
   "metadata": {},
   "source": [
    "## Exctracting data"
   ]
  },
  {
   "cell_type": "code",
   "execution_count": null,
   "metadata": {},
   "outputs": [],
   "source": [
    "maturities = np.array([7/365, 14/365, 30/365, 90/365, 180/365, 270/365, 1, 2, \n",
    "                       3, 5, 7, 10, \n",
    "                       15, 20])"
   ]
  },
  {
   "cell_type": "code",
   "execution_count": null,
   "metadata": {},
   "outputs": [],
   "source": [
    "curves_data = curves_to_excel(f'{PATH}/curves_beta_{CONFIG.SETTLE_DATE}.xlsx', \n",
    "                              beta_best, \n",
    "                              settle_date=CONFIG.SETTLE_DATE, \n",
    "                              maturities=maturities,\n",
    "                              shift = True)"
   ]
  },
  {
   "cell_type": "code",
   "execution_count": null,
   "metadata": {},
   "outputs": [],
   "source": [
    "CONFIG.SETTLE_DATE"
   ]
  },
  {
   "cell_type": "code",
   "execution_count": null,
   "metadata": {},
   "outputs": [],
   "source": [
    "curves_data"
   ]
  },
  {
   "cell_type": "code",
   "execution_count": null,
   "metadata": {},
   "outputs": [],
   "source": [
    "payment_calendar_to_excel('coupons.xlsx', coupons_cf, streak_data)"
   ]
  },
  {
   "cell_type": "code",
   "execution_count": null,
   "metadata": {},
   "outputs": [],
   "source": [
    "path_curve = os.path.join(PATH, f'{loss.__name__}_{CONFIG.SETTLE_DATE}.pdf')\n",
    "draw(beta_best, filtered_data, theor_maturities,  title_date=CONFIG.SETTLE_DATE, \n",
    "     longest_maturity_year=longest_maturity_year, draw_points=True,\n",
    "     weight_scheme='even', ls='--', linewidth=3, shift=True)\n",
    "\n",
    "plt.title(f'Curves for {CONFIG.SETTLE_DATE}')\n",
    "plt.xlim(0, longest_maturity_year);"
   ]
  }
 ],
 "metadata": {
  "kernelspec": {
   "display_name": "Python 3",
   "language": "python",
   "name": "python3"
  },
  "language_info": {
   "codemirror_mode": {
    "name": "ipython",
    "version": 3
   },
   "file_extension": ".py",
   "mimetype": "text/x-python",
   "name": "python",
   "nbconvert_exporter": "python",
   "pygments_lexer": "ipython3",
   "version": "3.7.0"
  }
 },
 "nbformat": 4,
 "nbformat_minor": 2
}
